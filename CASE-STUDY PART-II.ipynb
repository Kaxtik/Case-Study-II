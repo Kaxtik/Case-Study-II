{
 "cells": [
  {
   "cell_type": "code",
   "execution_count": 32,
   "metadata": {},
   "outputs": [],
   "source": [
    "import pandas as pd\n",
    "import numpy as np\n",
    "import matplotlib.pyplot as plt"
   ]
  },
  {
   "cell_type": "code",
   "execution_count": 51,
   "metadata": {},
   "outputs": [],
   "source": [
    "data=pd.read_csv('Downloads/startup_funding.csv')\n",
    "df=data.copy(deep=True)"
   ]
  },
  {
   "cell_type": "code",
   "execution_count": 15,
   "metadata": {},
   "outputs": [],
   "source": [
    "#Taking rows that doesn't contains nan values\n",
    "df= df[df['CityLocation'].notna()]\n",
    "df.reset_index(inplace=True)"
   ]
  },
  {
   "cell_type": "code",
   "execution_count": 16,
   "metadata": {},
   "outputs": [],
   "source": [
    "#replacing Name with uppercase\n",
    "df['CityLocation'].replace(\"bangalore\",\"Bangalore\",inplace=True) \n",
    "df['CityLocation'].replace(\"delhi\",\"New Delhi\",inplace=True) \n",
    "\n"
   ]
  },
  {
   "cell_type": "code",
   "execution_count": 17,
   "metadata": {},
   "outputs": [
    {
     "name": "stderr",
     "output_type": "stream",
     "text": [
      "<ipython-input-17-796008ee5d61>:4: SettingWithCopyWarning: \n",
      "A value is trying to be set on a copy of a slice from a DataFrame\n",
      "\n",
      "See the caveats in the documentation: https://pandas.pydata.org/pandas-docs/stable/user_guide/indexing.html#returning-a-view-versus-a-copy\n",
      "  df['CityLocation'][i]='Bangalore'\n",
      "<ipython-input-17-796008ee5d61>:6: SettingWithCopyWarning: \n",
      "A value is trying to be set on a copy of a slice from a DataFrame\n",
      "\n",
      "See the caveats in the documentation: https://pandas.pydata.org/pandas-docs/stable/user_guide/indexing.html#returning-a-view-versus-a-copy\n",
      "  df['CityLocation'][i]='New Delhi'\n",
      "<ipython-input-17-796008ee5d61>:8: SettingWithCopyWarning: \n",
      "A value is trying to be set on a copy of a slice from a DataFrame\n",
      "\n",
      "See the caveats in the documentation: https://pandas.pydata.org/pandas-docs/stable/user_guide/indexing.html#returning-a-view-versus-a-copy\n",
      "  df['CityLocation'][i]='Mumbai'\n",
      "<ipython-input-17-796008ee5d61>:10: SettingWithCopyWarning: \n",
      "A value is trying to be set on a copy of a slice from a DataFrame\n",
      "\n",
      "See the caveats in the documentation: https://pandas.pydata.org/pandas-docs/stable/user_guide/indexing.html#returning-a-view-versus-a-copy\n",
      "  df['CityLocation'][i]='Gurgaon'\n"
     ]
    }
   ],
   "source": [
    "#Taking Values which contains Specified Cities\n",
    "for i in range(len(df['CityLocation'])):\n",
    "    if 'Bangalore' in df['CityLocation'][i]:\n",
    "        df['CityLocation'][i]='Bangalore'\n",
    "    elif 'New Delhi' in df['CityLocation'][i]:\n",
    "        df['CityLocation'][i]='New Delhi'\n",
    "    elif 'Mumbai' in df['CityLocation'][i]:\n",
    "        df['CityLocation'][i]='Mumbai'\n",
    "    elif 'Gurgaon' in df['CityLocation'][i]:\n",
    "        df['CityLocation'][i]='Gurgaon'\n",
    "        "
   ]
  },
  {
   "cell_type": "code",
   "execution_count": 18,
   "metadata": {},
   "outputs": [],
   "source": [
    "df=df.loc[(df['CityLocation']=='Bangalore')|(df['CityLocation']=='Mumbai')|\n",
    "       (df['CityLocation']=='Gurgaon')|(df['CityLocation']=='Noida')|\n",
    "       (df['CityLocation']=='New Delhi')]"
   ]
  },
  {
   "cell_type": "code",
   "execution_count": 19,
   "metadata": {},
   "outputs": [
    {
     "data": {
      "text/plain": [
       "Bangalore    637\n",
       "Mumbai       449\n",
       "New Delhi    385\n",
       "Gurgaon      241\n",
       "Noida         78\n",
       "Name: CityLocation, dtype: int64"
      ]
     },
     "execution_count": 19,
     "metadata": {},
     "output_type": "execute_result"
    }
   ],
   "source": [
    "ak=df.CityLocation.value_counts()\n",
    "ak"
   ]
  },
  {
   "cell_type": "code",
   "execution_count": 21,
   "metadata": {},
   "outputs": [
    {
     "data": {
      "image/png": "[encoded data removed]",
      "text/plain": [
       "<Figure size 432x288 with 1 Axes>"
      ]
     },
     "metadata": {
      "needs_background": "light"
     },
     "output_type": "display_data"
    }
   ],
   "source": [
    "plt.bar(ak.index,ak.values,width = 0.4,color = \"cyan\" , edgecolor = \"blue\")\n",
    "plt.xlabel('CITIES')\n",
    "plt.ylabel('NO. of Fundings')\n",
    "plt.show()"
   ]
  },
  {
   "cell_type": "markdown",
   "metadata": {},
   "source": [
    "# Q2"
   ]
  },
  {
   "cell_type": "code",
   "execution_count": 24,
   "metadata": {},
   "outputs": [
    {
     "data": {
      "text/plain": [
       "0                                             Kae Capital\n",
       "1                              Triton Investment Advisors\n",
       "2       Kashyap Deorah, Anand Sankeshwar, Deepak Jain,...\n",
       "3       Kunal Shah, LetsVenture, Anupam Mittal, Hetal ...\n",
       "4                          Narottam Thudi, Shireesh Palle\n",
       "                              ...                        \n",
       "2367                          Asia Pacific Internet Group\n",
       "2368                                       KARSEMVEN Fund\n",
       "2369                       Exfinity Fund, GrowX Ventures.\n",
       "2370                                           MakeMyTrip\n",
       "2371                    UK based Group of Angel Investors\n",
       "Name: InvestorsName, Length: 2372, dtype: object"
      ]
     },
     "execution_count": 24,
     "metadata": {},
     "output_type": "execute_result"
    }
   ],
   "source": [
    "df.InvestorsName"
   ]
  },
  {
   "cell_type": "code",
   "execution_count": 25,
   "metadata": {},
   "outputs": [],
   "source": [
    "df = df[df['InvestorsName'].notna()]\n",
    "df.reset_index(inplace=True)"
   ]
  },
  {
   "cell_type": "code",
   "execution_count": 26,
   "metadata": {},
   "outputs": [],
   "source": [
    "def createdic(array):\n",
    "    dict={}\n",
    "    for i in array:\n",
    "        if ',' not in i:\n",
    "            if i in dict:\n",
    "                dict[i]+=1\n",
    "            else:\n",
    "                dict[i]=1\n",
    "        else:\n",
    "            string=i.strip().split(',')\n",
    "            for j in string:\n",
    "                if j.strip() in dict:\n",
    "                    dict[j.strip()]=dict.get(j.strip())+1\n",
    "                else:\n",
    "                    dict[j.strip()]=1\n",
    "    return dict\n",
    "dict=createdic(df.InvestorsName)"
   ]
  },
  {
   "cell_type": "code",
   "execution_count": 27,
   "metadata": {},
   "outputs": [],
   "source": [
    "df1=pd.DataFrame(list(dict.values()),list(dict.keys()))"
   ]
  },
  {
   "cell_type": "code",
   "execution_count": 28,
   "metadata": {},
   "outputs": [],
   "source": [
    "df2=df1.sort_values(by=[0],ascending=False)\n",
    "X=df2.index[0:5]\n",
    "Y=df2.values[0:5]\n",
    "Y=Y.reshape(5)"
   ]
  },
  {
   "cell_type": "code",
   "execution_count": 29,
   "metadata": {},
   "outputs": [
    {
     "name": "stdout",
     "output_type": "stream",
     "text": [
      "Sequoia Capital 64\n",
      "Accel Partners 53\n",
      "Kalaari Capital 44\n",
      "SAIF Partners 41\n",
      "Indian Angel Network 40\n"
     ]
    }
   ],
   "source": [
    "for i in range(5):\n",
    "    print(X[i],Y[i])"
   ]
  },
  {
   "cell_type": "code",
   "execution_count": 31,
   "metadata": {},
   "outputs": [
    {
     "data": {
      "image/png": "[encoded data removed]",
      "text/plain": [
       "<Figure size 432x288 with 1 Axes>"
      ]
     },
     "metadata": {
      "needs_background": "light"
     },
     "output_type": "display_data"
    }
   ],
   "source": [
    "plt.scatter(X,Y)\n",
    "plt.title('Top 5 Investors')\n",
    "plt.xlabel(\"Investors\", fontsize=16)  \n",
    "plt.ylabel(\"Number of Fundings\", fontsize=16)  \n",
    "plt.xticks(rotation = 90)\n",
    "plt.show()"
   ]
  },
  {
   "cell_type": "markdown",
   "metadata": {},
   "source": [
    "# Q3"
   ]
  },
  {
   "cell_type": "code",
   "execution_count": 34,
   "metadata": {},
   "outputs": [],
   "source": [
    "df.dropna(subset = [\"StartupName\",\"InvestorsName\"],inplace = True) "
   ]
  },
  {
   "cell_type": "code",
   "execution_count": 35,
   "metadata": {},
   "outputs": [],
   "source": [
    "df['StartupName'].replace('Olacabs','Ola',inplace=True)\n",
    "df['StartupName'].replace('Ola Cabs','Ola',inplace=True)\n",
    "df['StartupName'].replace('Flipkart.com','Flipkart',inplace=True)\n",
    "df['StartupName'].replace('Oyo Rooms','Oyo',inplace=True)\n",
    "df['StartupName'].replace('Oyorooms','Oyo',inplace=True)\n",
    "df['StartupName'].replace('OyoRooms','Oyo',inplace=True)\n",
    "df['StartupName'].replace('OYO Rooms','Oyo',inplace=True)\n",
    "df['StartupName'].replace('Paytm Marketplace','Paytm',inplace=True)"
   ]
  },
  {
   "cell_type": "code",
   "execution_count": 36,
   "metadata": {},
   "outputs": [],
   "source": [
    "dic = {}\n",
    "for i in df.index:\n",
    "    e = df[\"InvestorsName\"][i].strip()\n",
    "    if \",\" in e:\n",
    "        for j in e.strip().split(','):\n",
    "            if j.strip() in dic:\n",
    "                dic[j.strip()].add(df[\"StartupName\"][i].strip())\n",
    "            else:\n",
    "                s = set()\n",
    "                dic[j.strip()] = s\n",
    "                dic[j.strip()].add(df[\"StartupName\"][i].strip())\n",
    "    else:\n",
    "        el = e.strip()\n",
    "        if el in dic: \n",
    "            dic[el].add(df[\"StartupName\"][i].strip())\n",
    "        else:\n",
    "            s = set()\n",
    "            dic[el] = s\n",
    "            dic[el].add(df[\"StartupName\"][i].strip())"
   ]
  },
  {
   "cell_type": "code",
   "execution_count": 38,
   "metadata": {},
   "outputs": [
    {
     "name": "stdout",
     "output_type": "stream",
     "text": [
      "Sequoia Capital 48\n",
      "Accel Partners 47\n",
      "Kalaari Capital 41\n",
      "Indian Angel Network 40\n",
      "Blume Ventures 36\n"
     ]
    }
   ],
   "source": [
    "d1 = {}  \n",
    "for i in dic:\n",
    "    if i == \"\":\n",
    "        continue\n",
    "    d1[i] = len(dic[i])\n",
    "d2 = sorted(d1, key=d1.get , reverse=True)[0:5]  \n",
    "for i in d2:\n",
    "    print(i , d1[i])\n",
    "val = [] \n",
    "inv = []\n",
    "for keys , values in d1.items() :\n",
    "    for i in range(5):\n",
    "        if keys == d2[i]:\n",
    "            inv.append(keys)\n",
    "            val.append(values)\n",
    "\n"
   ]
  },
  {
   "cell_type": "code",
   "execution_count": 44,
   "metadata": {},
   "outputs": [
    {
     "data": {
      "image/png": "[encoded data removed]",
      "text/plain": [
       "<Figure size 432x288 with 1 Axes>"
      ]
     },
     "metadata": {
      "needs_background": "light"
     },
     "output_type": "display_data"
    }
   ],
   "source": [
    "plt.plot(inv,val)\n",
    "plt.scatter(inv , val)\n",
    "plt.title('Top Investors in Different Companies')\n",
    "plt.xlabel(\"Investors\", fontsize=15)  \n",
    "plt.ylabel(\"Investments in Number of Startups\", fontsize=15)  \n",
    "plt.xticks(rotation = 90) \n",
    "plt.show()"
   ]
  },
  {
   "cell_type": "markdown",
   "metadata": {},
   "source": [
    "# Q4"
   ]
  },
  {
   "cell_type": "code",
   "execution_count": 46,
   "metadata": {},
   "outputs": [
    {
     "name": "stdout",
     "output_type": "stream",
     "text": [
      "Indian Angel Network 33\n",
      "Rajan Anandan 23\n",
      "LetsVenture 16\n",
      "Anupam Mittal 16\n",
      "Kunal Shah 14\n"
     ]
    },
    {
     "name": "stderr",
     "output_type": "stream",
     "text": [
      "C:\\Users\\user\\anaconda3\\lib\\site-packages\\pandas\\core\\indexing.py:670: SettingWithCopyWarning: \n",
      "A value is trying to be set on a copy of a slice from a DataFrame\n",
      "\n",
      "See the caveats in the documentation: https://pandas.pydata.org/pandas-docs/stable/user_guide/indexing.html#returning-a-view-versus-a-copy\n",
      "  iloc._setitem_with_indexer(indexer, value)\n"
     ]
    }
   ],
   "source": [
    "df.dropna(subset = [\"InvestorsName\"],inplace = True) \n",
    "\n",
    "df[\"StartupName\"].replace(\"Flipkart.com\",\"Flipkart\",inplace = True)  \n",
    "df[\"StartupName\"].replace(\"Ola Cabs\",\"Ola\",inplace = True)\n",
    "df[\"StartupName\"].replace(\"Olacabs\",\"Ola\",inplace = True)\n",
    "df[\"StartupName\"].replace(\"Oyorooms\",\"Oyo\",inplace = True)\n",
    "df[\"StartupName\"].replace(\"OyoRooms\",\"Oyo\",inplace = True)\n",
    "df[\"StartupName\"].replace(\"OYO Rooms\",\"Oyo\",inplace = True)\n",
    "df[\"StartupName\"].replace(\"Oyo Rooms\",\"Oyo\",inplace = True)\n",
    "df[\"StartupName\"].replace(\"Paytm Marketplace\",\"Paytm\",inplace = True)\n",
    "\n",
    "\n",
    "df.InvestmentType.loc[df.InvestmentType == 'Crowd funding'] = 'Crowd Funding'\n",
    "df.InvestmentType.loc[df.InvestmentType == 'PrivateEquity'] = 'Private Equity'\n",
    "df.InvestmentType.loc[df.InvestmentType == 'SeedFunding'] = 'Seed Funding'\n",
    "\n",
    "df[\"InvestorsName\"].replace(\"Undisclosed Investors\",\"\",inplace = True) \n",
    "df[\"InvestorsName\"].replace(\"Undisclosed investors\",\"\",inplace = True)\n",
    "\n",
    "\n",
    "df = df[(df[\"InvestmentType\"] == \"Seed Funding\") | (df[\"InvestmentType\"] == \"Crowd Funding\")]  \n",
    "\n",
    "\n",
    "dic = {}\n",
    "for i in df.index:\n",
    "    e = df[\"InvestorsName\"][i].strip()\n",
    "    if \",\" in e:\n",
    "        for j in e.strip().split(','):\n",
    "            if j.strip() in dic:\n",
    "                dic[j.strip()].add(df[\"StartupName\"][i].strip())\n",
    "            else:\n",
    "                s = set()\n",
    "                dic[j.strip()] = s\n",
    "                dic[j.strip()].add(df[\"StartupName\"][i].strip())\n",
    "    else:\n",
    "        el = e.strip()\n",
    "        if el in dic: \n",
    "            dic[el].add(df[\"StartupName\"][i].strip())\n",
    "        else:\n",
    "            s = set()\n",
    "            dic[el] = s\n",
    "            dic[el].add(df[\"StartupName\"][i].strip())\n",
    "\n",
    "d1 = {}  \n",
    "for i in dic:\n",
    "    if i == \"\":\n",
    "        continue\n",
    "    d1[i] = len(dic[i])\n",
    "     \n",
    "d2 = sorted(d1, key=d1.get , reverse=True)[0:5]  \n",
    "for i in d2:\n",
    "    print(i , d1[i])"
   ]
  },
  {
   "cell_type": "code",
   "execution_count": 47,
   "metadata": {},
   "outputs": [],
   "source": [
    "val = [] \n",
    "inv = []\n",
    "for keys , values in d1.items() :\n",
    "    for i in range(5):\n",
    "        if keys == d2[i]:\n",
    "            inv.append(keys)\n",
    "            val.append(values)\n"
   ]
  },
  {
   "cell_type": "code",
   "execution_count": 50,
   "metadata": {},
   "outputs": [
    {
     "data": {
      "image/png": "[encoded data removed]",
      "text/plain": [
       "<Figure size 432x288 with 1 Axes>"
      ]
     },
     "metadata": {
      "needs_background": "light"
     },
     "output_type": "display_data"
    }
   ],
   "source": [
    "\n",
    "plt.scatter(inv , val)\n",
    "plt.plot(inv,val)\n",
    "plt.title('Seed / Crowd Investors')\n",
    "plt.xlabel(\"Investors\", fontsize=15)  \n",
    "plt.ylabel(\"Number of Startups With Seed and Crowd Fundings\", fontsize=15) \n",
    "plt.xticks(rotation = 0)\n",
    "plt.show()"
   ]
  },
  {
   "cell_type": "markdown",
   "metadata": {},
   "source": [
    "# Q5"
   ]
  },
  {
   "cell_type": "code",
   "execution_count": 52,
   "metadata": {},
   "outputs": [],
   "source": [
    "df.dropna(subset = [\"InvestorsName\"],inplace = True) "
   ]
  },
  {
   "cell_type": "code",
   "execution_count": 53,
   "metadata": {},
   "outputs": [
    {
     "name": "stderr",
     "output_type": "stream",
     "text": [
      "C:\\Users\\user\\anaconda3\\lib\\site-packages\\pandas\\core\\indexing.py:670: SettingWithCopyWarning: \n",
      "A value is trying to be set on a copy of a slice from a DataFrame\n",
      "\n",
      "See the caveats in the documentation: https://pandas.pydata.org/pandas-docs/stable/user_guide/indexing.html#returning-a-view-versus-a-copy\n",
      "  iloc._setitem_with_indexer(indexer, value)\n"
     ]
    }
   ],
   "source": [
    "df[\"StartupName\"].replace(\"Flipkart.com\",\"Flipkart\",inplace = True)  \n",
    "df[\"StartupName\"].replace(\"Ola Cabs\",\"Ola\",inplace = True)\n",
    "df[\"StartupName\"].replace(\"Olacabs\",\"Ola\",inplace = True)\n",
    "df[\"StartupName\"].replace(\"Oyorooms\",\"Oyo\",inplace = True)\n",
    "df[\"StartupName\"].replace(\"OyoRooms\",\"Oyo\",inplace = True)\n",
    "df[\"StartupName\"].replace(\"OYO Rooms\",\"Oyo\",inplace = True)\n",
    "df[\"StartupName\"].replace(\"Oyo Rooms\",\"Oyo\",inplace = True)\n",
    "df[\"StartupName\"].replace(\"Paytm Marketplace\",\"Paytm\",inplace = True)\n",
    "\n",
    "df.InvestmentType.loc[df.InvestmentType == 'Crowd funding'] = 'Crowd Funding'\n",
    "df.InvestmentType.loc[df.InvestmentType == 'PrivateEquity'] = 'Private Equity'\n",
    "df.InvestmentType.loc[df.InvestmentType == 'SeedFunding'] = 'Seed Funding'\n",
    "\n",
    "df[\"InvestorsName\"].replace(\"Undisclosed Investors\",\"\",inplace = True) \n",
    "df[\"InvestorsName\"].replace(\"Undisclosed investors\",\"\",inplace = True)\n",
    "\n",
    "\n",
    "df = df[(df[\"InvestmentType\"] == \"Private Equity\")]  "
   ]
  },
  {
   "cell_type": "code",
   "execution_count": 54,
   "metadata": {},
   "outputs": [
    {
     "name": "stdout",
     "output_type": "stream",
     "text": [
      "Sequoia Capital 45\n",
      "Accel Partners 43\n",
      "Kalaari Capital 35\n",
      "Blume Ventures 27\n",
      "SAIF Partners 24\n"
     ]
    }
   ],
   "source": [
    "dic = {}\n",
    "for i in df.index:\n",
    "    e = df[\"InvestorsName\"][i].strip()\n",
    "    if \",\" in e:\n",
    "        for j in e.strip().split(','):\n",
    "            if j.strip() in dic:\n",
    "                dic[j.strip()].add(df[\"StartupName\"][i].strip())\n",
    "            else:\n",
    "                s = set()\n",
    "                dic[j.strip()] = s\n",
    "                dic[j.strip()].add(df[\"StartupName\"][i].strip())\n",
    "    else:\n",
    "        el = e.strip()\n",
    "        if el in dic: \n",
    "            dic[el].add(df[\"StartupName\"][i].strip())\n",
    "        else:\n",
    "            s = set()\n",
    "            dic[el] = s\n",
    "            dic[el].add(df[\"StartupName\"][i].strip())\\\n",
    "            \n",
    "d1 = {}  \n",
    "for i in dic:\n",
    "    if i == \"\":\n",
    "        continue\n",
    "    d1[i] = len(dic[i])\n",
    "d2 = sorted(d1, key=d1.get , reverse=True)[0:5]  \n",
    "for i in d2:\n",
    "    print(i , d1[i])\n",
    "\n",
    "     "
   ]
  },
  {
   "cell_type": "code",
   "execution_count": 55,
   "metadata": {},
   "outputs": [],
   "source": [
    "val = [] \n",
    "inv = []\n",
    "for keys , values in d1.items() :\n",
    "    for i in range(5):\n",
    "        if keys == d2[i]:\n",
    "            inv.append(keys)\n",
    "            val.append(values)\n"
   ]
  },
  {
   "cell_type": "code",
   "execution_count": 59,
   "metadata": {},
   "outputs": [
    {
     "data": {
      "image/png": "[encoded data removed]",
      "text/plain": [
       "<Figure size 432x288 with 1 Axes>"
      ]
     },
     "metadata": {
      "needs_background": "light"
     },
     "output_type": "display_data"
    }
   ],
   "source": [
    "plt.scatter(inv , val)\n",
    "plt.plot(inv,val)\n",
    "plt.title('Private Equity')\n",
    "plt.xlabel(\"Investors\", fontsize=15)  \n",
    "plt.ylabel(\"Number of Startups With Private Equity\", fontsize=15) \n",
    "plt.xticks(rotation = 60)\n",
    "plt.show()"
   ]
  }
 ],
 "metadata": {
  "kernelspec": {
   "display_name": "Python 3",
   "language": "python",
   "name": "python3"
  },
  "language_info": {
   "codemirror_mode": {
    "name": "ipython",
    "version": 3
   },
   "file_extension": ".py",
   "mimetype": "text/x-python",
   "name": "python",
   "nbconvert_exporter": "python",
   "pygments_lexer": "ipython3",
   "version": "3.8.5"
  }
 },
 "nbformat": 4,
 "nbformat_minor": 4
}
